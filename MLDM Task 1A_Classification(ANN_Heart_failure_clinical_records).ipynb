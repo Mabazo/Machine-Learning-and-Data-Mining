{
 "cells": [
  {
   "cell_type": "code",
   "execution_count": 1,
   "metadata": {
    "id": "iURCGrZ7K-2T"
   },
   "outputs": [],
   "source": [
    "#Importing the Libraries\n",
    "import numpy as np\n",
    "import pandas as pd\n",
    "import matplotlib.pyplot as plt\n",
    "import tensorflow as tf\n",
    "import seaborn as sns\n",
    "from sklearn.preprocessing import StandardScaler\n",
    "from sklearn.model_selection import train_test_split"
   ]
  },
  {
   "cell_type": "code",
   "execution_count": 2,
   "metadata": {
    "id": "DTlJNi4eMIqt"
   },
   "outputs": [],
   "source": [
    "dataset = pd.read_csv('heart_failure_clinical_records.csv')"
   ]
  },
  {
   "cell_type": "code",
   "execution_count": 3,
   "metadata": {
    "colab": {
     "base_uri": "https://localhost:8080/",
     "height": 270
    },
    "id": "z0GC40-rMPE1",
    "outputId": "8807b71e-5d07-4273-c4a6-1884d2f34595"
   },
   "outputs": [
    {
     "data": {
      "text/html": [
       "<div>\n",
       "<style scoped>\n",
       "    .dataframe tbody tr th:only-of-type {\n",
       "        vertical-align: middle;\n",
       "    }\n",
       "\n",
       "    .dataframe tbody tr th {\n",
       "        vertical-align: top;\n",
       "    }\n",
       "\n",
       "    .dataframe thead th {\n",
       "        text-align: right;\n",
       "    }\n",
       "</style>\n",
       "<table border=\"1\" class=\"dataframe\">\n",
       "  <thead>\n",
       "    <tr style=\"text-align: right;\">\n",
       "      <th></th>\n",
       "      <th>age</th>\n",
       "      <th>anaemia</th>\n",
       "      <th>creatinine_phosphokinase</th>\n",
       "      <th>diabetes</th>\n",
       "      <th>ejection_fraction</th>\n",
       "      <th>high_blood_pressure</th>\n",
       "      <th>platelets</th>\n",
       "      <th>serum_creatinine</th>\n",
       "      <th>serum_sodium</th>\n",
       "      <th>sex</th>\n",
       "      <th>smoking</th>\n",
       "      <th>time</th>\n",
       "      <th>DEATH_EVENT</th>\n",
       "    </tr>\n",
       "  </thead>\n",
       "  <tbody>\n",
       "    <tr>\n",
       "      <th>0</th>\n",
       "      <td>75.0</td>\n",
       "      <td>0</td>\n",
       "      <td>582</td>\n",
       "      <td>0</td>\n",
       "      <td>20</td>\n",
       "      <td>1</td>\n",
       "      <td>265000.00</td>\n",
       "      <td>1.9</td>\n",
       "      <td>130</td>\n",
       "      <td>1</td>\n",
       "      <td>0</td>\n",
       "      <td>4</td>\n",
       "      <td>1</td>\n",
       "    </tr>\n",
       "    <tr>\n",
       "      <th>1</th>\n",
       "      <td>55.0</td>\n",
       "      <td>0</td>\n",
       "      <td>7861</td>\n",
       "      <td>0</td>\n",
       "      <td>38</td>\n",
       "      <td>0</td>\n",
       "      <td>263358.03</td>\n",
       "      <td>1.1</td>\n",
       "      <td>136</td>\n",
       "      <td>1</td>\n",
       "      <td>0</td>\n",
       "      <td>6</td>\n",
       "      <td>1</td>\n",
       "    </tr>\n",
       "    <tr>\n",
       "      <th>2</th>\n",
       "      <td>65.0</td>\n",
       "      <td>0</td>\n",
       "      <td>146</td>\n",
       "      <td>0</td>\n",
       "      <td>20</td>\n",
       "      <td>0</td>\n",
       "      <td>162000.00</td>\n",
       "      <td>1.3</td>\n",
       "      <td>129</td>\n",
       "      <td>1</td>\n",
       "      <td>1</td>\n",
       "      <td>7</td>\n",
       "      <td>1</td>\n",
       "    </tr>\n",
       "    <tr>\n",
       "      <th>3</th>\n",
       "      <td>50.0</td>\n",
       "      <td>1</td>\n",
       "      <td>111</td>\n",
       "      <td>0</td>\n",
       "      <td>20</td>\n",
       "      <td>0</td>\n",
       "      <td>210000.00</td>\n",
       "      <td>1.9</td>\n",
       "      <td>137</td>\n",
       "      <td>1</td>\n",
       "      <td>0</td>\n",
       "      <td>7</td>\n",
       "      <td>1</td>\n",
       "    </tr>\n",
       "    <tr>\n",
       "      <th>4</th>\n",
       "      <td>65.0</td>\n",
       "      <td>1</td>\n",
       "      <td>160</td>\n",
       "      <td>1</td>\n",
       "      <td>20</td>\n",
       "      <td>0</td>\n",
       "      <td>327000.00</td>\n",
       "      <td>2.7</td>\n",
       "      <td>116</td>\n",
       "      <td>0</td>\n",
       "      <td>0</td>\n",
       "      <td>8</td>\n",
       "      <td>1</td>\n",
       "    </tr>\n",
       "  </tbody>\n",
       "</table>\n",
       "</div>"
      ],
      "text/plain": [
       "    age  anaemia  creatinine_phosphokinase  diabetes  ejection_fraction  \\\n",
       "0  75.0        0                       582         0                 20   \n",
       "1  55.0        0                      7861         0                 38   \n",
       "2  65.0        0                       146         0                 20   \n",
       "3  50.0        1                       111         0                 20   \n",
       "4  65.0        1                       160         1                 20   \n",
       "\n",
       "   high_blood_pressure  platelets  serum_creatinine  serum_sodium  sex  \\\n",
       "0                    1  265000.00               1.9           130    1   \n",
       "1                    0  263358.03               1.1           136    1   \n",
       "2                    0  162000.00               1.3           129    1   \n",
       "3                    0  210000.00               1.9           137    1   \n",
       "4                    0  327000.00               2.7           116    0   \n",
       "\n",
       "   smoking  time  DEATH_EVENT  \n",
       "0        0     4            1  \n",
       "1        0     6            1  \n",
       "2        1     7            1  \n",
       "3        0     7            1  \n",
       "4        0     8            1  "
      ]
     },
     "execution_count": 3,
     "metadata": {},
     "output_type": "execute_result"
    }
   ],
   "source": [
    "dataset.head()"
   ]
  },
  {
   "cell_type": "code",
   "execution_count": 4,
   "metadata": {
    "colab": {
     "base_uri": "https://localhost:8080/",
     "height": 270
    },
    "id": "8fR7SnuTMUNR",
    "outputId": "b8120a3c-348b-4740-f7d2-9f9806fb0f38"
   },
   "outputs": [
    {
     "data": {
      "text/html": [
       "<div>\n",
       "<style scoped>\n",
       "    .dataframe tbody tr th:only-of-type {\n",
       "        vertical-align: middle;\n",
       "    }\n",
       "\n",
       "    .dataframe tbody tr th {\n",
       "        vertical-align: top;\n",
       "    }\n",
       "\n",
       "    .dataframe thead th {\n",
       "        text-align: right;\n",
       "    }\n",
       "</style>\n",
       "<table border=\"1\" class=\"dataframe\">\n",
       "  <thead>\n",
       "    <tr style=\"text-align: right;\">\n",
       "      <th></th>\n",
       "      <th>age</th>\n",
       "      <th>anaemia</th>\n",
       "      <th>creatinine_phosphokinase</th>\n",
       "      <th>diabetes</th>\n",
       "      <th>ejection_fraction</th>\n",
       "      <th>high_blood_pressure</th>\n",
       "      <th>platelets</th>\n",
       "      <th>serum_creatinine</th>\n",
       "      <th>serum_sodium</th>\n",
       "      <th>sex</th>\n",
       "      <th>smoking</th>\n",
       "      <th>time</th>\n",
       "      <th>DEATH_EVENT</th>\n",
       "    </tr>\n",
       "  </thead>\n",
       "  <tbody>\n",
       "    <tr>\n",
       "      <th>294</th>\n",
       "      <td>62.0</td>\n",
       "      <td>0</td>\n",
       "      <td>61</td>\n",
       "      <td>1</td>\n",
       "      <td>38</td>\n",
       "      <td>1</td>\n",
       "      <td>155000.0</td>\n",
       "      <td>1.1</td>\n",
       "      <td>143</td>\n",
       "      <td>1</td>\n",
       "      <td>1</td>\n",
       "      <td>270</td>\n",
       "      <td>0</td>\n",
       "    </tr>\n",
       "    <tr>\n",
       "      <th>295</th>\n",
       "      <td>55.0</td>\n",
       "      <td>0</td>\n",
       "      <td>1820</td>\n",
       "      <td>0</td>\n",
       "      <td>38</td>\n",
       "      <td>0</td>\n",
       "      <td>270000.0</td>\n",
       "      <td>1.2</td>\n",
       "      <td>139</td>\n",
       "      <td>0</td>\n",
       "      <td>0</td>\n",
       "      <td>271</td>\n",
       "      <td>0</td>\n",
       "    </tr>\n",
       "    <tr>\n",
       "      <th>296</th>\n",
       "      <td>45.0</td>\n",
       "      <td>0</td>\n",
       "      <td>2060</td>\n",
       "      <td>1</td>\n",
       "      <td>60</td>\n",
       "      <td>0</td>\n",
       "      <td>742000.0</td>\n",
       "      <td>0.8</td>\n",
       "      <td>138</td>\n",
       "      <td>0</td>\n",
       "      <td>0</td>\n",
       "      <td>278</td>\n",
       "      <td>0</td>\n",
       "    </tr>\n",
       "    <tr>\n",
       "      <th>297</th>\n",
       "      <td>45.0</td>\n",
       "      <td>0</td>\n",
       "      <td>2413</td>\n",
       "      <td>0</td>\n",
       "      <td>38</td>\n",
       "      <td>0</td>\n",
       "      <td>140000.0</td>\n",
       "      <td>1.4</td>\n",
       "      <td>140</td>\n",
       "      <td>1</td>\n",
       "      <td>1</td>\n",
       "      <td>280</td>\n",
       "      <td>0</td>\n",
       "    </tr>\n",
       "    <tr>\n",
       "      <th>298</th>\n",
       "      <td>50.0</td>\n",
       "      <td>0</td>\n",
       "      <td>196</td>\n",
       "      <td>0</td>\n",
       "      <td>45</td>\n",
       "      <td>0</td>\n",
       "      <td>395000.0</td>\n",
       "      <td>1.6</td>\n",
       "      <td>136</td>\n",
       "      <td>1</td>\n",
       "      <td>1</td>\n",
       "      <td>285</td>\n",
       "      <td>0</td>\n",
       "    </tr>\n",
       "  </tbody>\n",
       "</table>\n",
       "</div>"
      ],
      "text/plain": [
       "      age  anaemia  creatinine_phosphokinase  diabetes  ejection_fraction  \\\n",
       "294  62.0        0                        61         1                 38   \n",
       "295  55.0        0                      1820         0                 38   \n",
       "296  45.0        0                      2060         1                 60   \n",
       "297  45.0        0                      2413         0                 38   \n",
       "298  50.0        0                       196         0                 45   \n",
       "\n",
       "     high_blood_pressure  platelets  serum_creatinine  serum_sodium  sex  \\\n",
       "294                    1   155000.0               1.1           143    1   \n",
       "295                    0   270000.0               1.2           139    0   \n",
       "296                    0   742000.0               0.8           138    0   \n",
       "297                    0   140000.0               1.4           140    1   \n",
       "298                    0   395000.0               1.6           136    1   \n",
       "\n",
       "     smoking  time  DEATH_EVENT  \n",
       "294        1   270            0  \n",
       "295        0   271            0  \n",
       "296        0   278            0  \n",
       "297        1   280            0  \n",
       "298        1   285            0  "
      ]
     },
     "execution_count": 4,
     "metadata": {},
     "output_type": "execute_result"
    }
   ],
   "source": [
    "dataset.tail()"
   ]
  },
  {
   "cell_type": "code",
   "execution_count": 5,
   "metadata": {
    "colab": {
     "base_uri": "https://localhost:8080/",
     "height": 364
    },
    "id": "nTpdPatqMZ91",
    "outputId": "92478576-3aaf-4d82-919b-9e2f109bda0f"
   },
   "outputs": [
    {
     "data": {
      "text/html": [
       "<div>\n",
       "<style scoped>\n",
       "    .dataframe tbody tr th:only-of-type {\n",
       "        vertical-align: middle;\n",
       "    }\n",
       "\n",
       "    .dataframe tbody tr th {\n",
       "        vertical-align: top;\n",
       "    }\n",
       "\n",
       "    .dataframe thead th {\n",
       "        text-align: right;\n",
       "    }\n",
       "</style>\n",
       "<table border=\"1\" class=\"dataframe\">\n",
       "  <thead>\n",
       "    <tr style=\"text-align: right;\">\n",
       "      <th></th>\n",
       "      <th>age</th>\n",
       "      <th>anaemia</th>\n",
       "      <th>creatinine_phosphokinase</th>\n",
       "      <th>diabetes</th>\n",
       "      <th>ejection_fraction</th>\n",
       "      <th>high_blood_pressure</th>\n",
       "      <th>platelets</th>\n",
       "      <th>serum_creatinine</th>\n",
       "      <th>serum_sodium</th>\n",
       "      <th>sex</th>\n",
       "      <th>smoking</th>\n",
       "      <th>time</th>\n",
       "      <th>DEATH_EVENT</th>\n",
       "    </tr>\n",
       "  </thead>\n",
       "  <tbody>\n",
       "    <tr>\n",
       "      <th>count</th>\n",
       "      <td>299.000000</td>\n",
       "      <td>299.000000</td>\n",
       "      <td>299.000000</td>\n",
       "      <td>299.000000</td>\n",
       "      <td>299.000000</td>\n",
       "      <td>299.000000</td>\n",
       "      <td>299.000000</td>\n",
       "      <td>299.00000</td>\n",
       "      <td>299.000000</td>\n",
       "      <td>299.000000</td>\n",
       "      <td>299.00000</td>\n",
       "      <td>299.000000</td>\n",
       "      <td>299.00000</td>\n",
       "    </tr>\n",
       "    <tr>\n",
       "      <th>mean</th>\n",
       "      <td>60.833893</td>\n",
       "      <td>0.431438</td>\n",
       "      <td>581.839465</td>\n",
       "      <td>0.418060</td>\n",
       "      <td>38.083612</td>\n",
       "      <td>0.351171</td>\n",
       "      <td>263358.029264</td>\n",
       "      <td>1.39388</td>\n",
       "      <td>136.625418</td>\n",
       "      <td>0.648829</td>\n",
       "      <td>0.32107</td>\n",
       "      <td>130.260870</td>\n",
       "      <td>0.32107</td>\n",
       "    </tr>\n",
       "    <tr>\n",
       "      <th>std</th>\n",
       "      <td>11.894809</td>\n",
       "      <td>0.496107</td>\n",
       "      <td>970.287881</td>\n",
       "      <td>0.494067</td>\n",
       "      <td>11.834841</td>\n",
       "      <td>0.478136</td>\n",
       "      <td>97804.236869</td>\n",
       "      <td>1.03451</td>\n",
       "      <td>4.412477</td>\n",
       "      <td>0.478136</td>\n",
       "      <td>0.46767</td>\n",
       "      <td>77.614208</td>\n",
       "      <td>0.46767</td>\n",
       "    </tr>\n",
       "    <tr>\n",
       "      <th>min</th>\n",
       "      <td>40.000000</td>\n",
       "      <td>0.000000</td>\n",
       "      <td>23.000000</td>\n",
       "      <td>0.000000</td>\n",
       "      <td>14.000000</td>\n",
       "      <td>0.000000</td>\n",
       "      <td>25100.000000</td>\n",
       "      <td>0.50000</td>\n",
       "      <td>113.000000</td>\n",
       "      <td>0.000000</td>\n",
       "      <td>0.00000</td>\n",
       "      <td>4.000000</td>\n",
       "      <td>0.00000</td>\n",
       "    </tr>\n",
       "    <tr>\n",
       "      <th>25%</th>\n",
       "      <td>51.000000</td>\n",
       "      <td>0.000000</td>\n",
       "      <td>116.500000</td>\n",
       "      <td>0.000000</td>\n",
       "      <td>30.000000</td>\n",
       "      <td>0.000000</td>\n",
       "      <td>212500.000000</td>\n",
       "      <td>0.90000</td>\n",
       "      <td>134.000000</td>\n",
       "      <td>0.000000</td>\n",
       "      <td>0.00000</td>\n",
       "      <td>73.000000</td>\n",
       "      <td>0.00000</td>\n",
       "    </tr>\n",
       "    <tr>\n",
       "      <th>50%</th>\n",
       "      <td>60.000000</td>\n",
       "      <td>0.000000</td>\n",
       "      <td>250.000000</td>\n",
       "      <td>0.000000</td>\n",
       "      <td>38.000000</td>\n",
       "      <td>0.000000</td>\n",
       "      <td>262000.000000</td>\n",
       "      <td>1.10000</td>\n",
       "      <td>137.000000</td>\n",
       "      <td>1.000000</td>\n",
       "      <td>0.00000</td>\n",
       "      <td>115.000000</td>\n",
       "      <td>0.00000</td>\n",
       "    </tr>\n",
       "    <tr>\n",
       "      <th>75%</th>\n",
       "      <td>70.000000</td>\n",
       "      <td>1.000000</td>\n",
       "      <td>582.000000</td>\n",
       "      <td>1.000000</td>\n",
       "      <td>45.000000</td>\n",
       "      <td>1.000000</td>\n",
       "      <td>303500.000000</td>\n",
       "      <td>1.40000</td>\n",
       "      <td>140.000000</td>\n",
       "      <td>1.000000</td>\n",
       "      <td>1.00000</td>\n",
       "      <td>203.000000</td>\n",
       "      <td>1.00000</td>\n",
       "    </tr>\n",
       "    <tr>\n",
       "      <th>max</th>\n",
       "      <td>95.000000</td>\n",
       "      <td>1.000000</td>\n",
       "      <td>7861.000000</td>\n",
       "      <td>1.000000</td>\n",
       "      <td>80.000000</td>\n",
       "      <td>1.000000</td>\n",
       "      <td>850000.000000</td>\n",
       "      <td>9.40000</td>\n",
       "      <td>148.000000</td>\n",
       "      <td>1.000000</td>\n",
       "      <td>1.00000</td>\n",
       "      <td>285.000000</td>\n",
       "      <td>1.00000</td>\n",
       "    </tr>\n",
       "  </tbody>\n",
       "</table>\n",
       "</div>"
      ],
      "text/plain": [
       "              age     anaemia  creatinine_phosphokinase    diabetes  \\\n",
       "count  299.000000  299.000000                299.000000  299.000000   \n",
       "mean    60.833893    0.431438                581.839465    0.418060   \n",
       "std     11.894809    0.496107                970.287881    0.494067   \n",
       "min     40.000000    0.000000                 23.000000    0.000000   \n",
       "25%     51.000000    0.000000                116.500000    0.000000   \n",
       "50%     60.000000    0.000000                250.000000    0.000000   \n",
       "75%     70.000000    1.000000                582.000000    1.000000   \n",
       "max     95.000000    1.000000               7861.000000    1.000000   \n",
       "\n",
       "       ejection_fraction  high_blood_pressure      platelets  \\\n",
       "count         299.000000           299.000000     299.000000   \n",
       "mean           38.083612             0.351171  263358.029264   \n",
       "std            11.834841             0.478136   97804.236869   \n",
       "min            14.000000             0.000000   25100.000000   \n",
       "25%            30.000000             0.000000  212500.000000   \n",
       "50%            38.000000             0.000000  262000.000000   \n",
       "75%            45.000000             1.000000  303500.000000   \n",
       "max            80.000000             1.000000  850000.000000   \n",
       "\n",
       "       serum_creatinine  serum_sodium         sex    smoking        time  \\\n",
       "count         299.00000    299.000000  299.000000  299.00000  299.000000   \n",
       "mean            1.39388    136.625418    0.648829    0.32107  130.260870   \n",
       "std             1.03451      4.412477    0.478136    0.46767   77.614208   \n",
       "min             0.50000    113.000000    0.000000    0.00000    4.000000   \n",
       "25%             0.90000    134.000000    0.000000    0.00000   73.000000   \n",
       "50%             1.10000    137.000000    1.000000    0.00000  115.000000   \n",
       "75%             1.40000    140.000000    1.000000    1.00000  203.000000   \n",
       "max             9.40000    148.000000    1.000000    1.00000  285.000000   \n",
       "\n",
       "       DEATH_EVENT  \n",
       "count    299.00000  \n",
       "mean       0.32107  \n",
       "std        0.46767  \n",
       "min        0.00000  \n",
       "25%        0.00000  \n",
       "50%        0.00000  \n",
       "75%        1.00000  \n",
       "max        1.00000  "
      ]
     },
     "execution_count": 5,
     "metadata": {},
     "output_type": "execute_result"
    }
   ],
   "source": [
    "dataset.describe()"
   ]
  },
  {
   "cell_type": "code",
   "execution_count": 6,
   "metadata": {
    "colab": {
     "base_uri": "https://localhost:8080/"
    },
    "id": "NnnszSIrMcLs",
    "outputId": "35738d4c-187e-4de5-d0aa-2c4340a0069e"
   },
   "outputs": [
    {
     "name": "stdout",
     "output_type": "stream",
     "text": [
      "<class 'pandas.core.frame.DataFrame'>\n",
      "RangeIndex: 299 entries, 0 to 298\n",
      "Data columns (total 13 columns):\n",
      " #   Column                    Non-Null Count  Dtype  \n",
      "---  ------                    --------------  -----  \n",
      " 0   age                       299 non-null    float64\n",
      " 1   anaemia                   299 non-null    int64  \n",
      " 2   creatinine_phosphokinase  299 non-null    int64  \n",
      " 3   diabetes                  299 non-null    int64  \n",
      " 4   ejection_fraction         299 non-null    int64  \n",
      " 5   high_blood_pressure       299 non-null    int64  \n",
      " 6   platelets                 299 non-null    float64\n",
      " 7   serum_creatinine          299 non-null    float64\n",
      " 8   serum_sodium              299 non-null    int64  \n",
      " 9   sex                       299 non-null    int64  \n",
      " 10  smoking                   299 non-null    int64  \n",
      " 11  time                      299 non-null    int64  \n",
      " 12  DEATH_EVENT               299 non-null    int64  \n",
      "dtypes: float64(3), int64(10)\n",
      "memory usage: 30.5 KB\n"
     ]
    }
   ],
   "source": [
    "dataset.info()"
   ]
  },
  {
   "cell_type": "code",
   "execution_count": 7,
   "metadata": {
    "colab": {
     "base_uri": "https://localhost:8080/"
    },
    "id": "htxEWrzeMexL",
    "outputId": "ea4aab5e-8d97-47ab-e9c3-ff3945769325"
   },
   "outputs": [
    {
     "data": {
      "text/plain": [
       "(299, 13)"
      ]
     },
     "execution_count": 7,
     "metadata": {},
     "output_type": "execute_result"
    }
   ],
   "source": [
    "dataset.shape"
   ]
  },
  {
   "cell_type": "code",
   "execution_count": 8,
   "metadata": {
    "colab": {
     "base_uri": "https://localhost:8080/"
    },
    "id": "QmBzvhsdMjnD",
    "outputId": "62bacca0-e2e7-4ca3-ac35-4124b9eb13e8"
   },
   "outputs": [
    {
     "data": {
      "text/plain": [
       "0    203\n",
       "1     96\n",
       "Name: DEATH_EVENT, dtype: int64"
      ]
     },
     "execution_count": 8,
     "metadata": {},
     "output_type": "execute_result"
    }
   ],
   "source": [
    "dataset['DEATH_EVENT'].value_counts()"
   ]
  },
  {
   "cell_type": "code",
   "execution_count": 9,
   "metadata": {
    "colab": {
     "base_uri": "https://localhost:8080/",
     "height": 355
    },
    "id": "vSYjEWrMM09q",
    "outputId": "ba7c2a78-f59e-4994-9732-dcb40fcd4d7f"
   },
   "outputs": [
    {
     "name": "stderr",
     "output_type": "stream",
     "text": [
      "C:\\Users\\HP\\anaconda3\\lib\\site-packages\\seaborn\\_decorators.py:36: FutureWarning: Pass the following variable as a keyword arg: x. From version 0.12, the only valid positional argument will be `data`, and passing other arguments without an explicit keyword will result in an error or misinterpretation.\n",
      "  warnings.warn(\n"
     ]
    },
    {
     "data": {
      "text/plain": [
       "<AxesSubplot:xlabel='DEATH_EVENT', ylabel='count'>"
      ]
     },
     "execution_count": 9,
     "metadata": {},
     "output_type": "execute_result"
    },
    {
     "data": {
      "image/png": "[encoded data removed]",
      "text/plain": [
       "<Figure size 432x288 with 1 Axes>"
      ]
     },
     "metadata": {
      "needs_background": "light"
     },
     "output_type": "display_data"
    }
   ],
   "source": [
    "sns.countplot(dataset['DEATH_EVENT'])"
   ]
  },
  {
   "cell_type": "code",
   "execution_count": 10,
   "metadata": {
    "id": "Ove5rVNfNHCh"
   },
   "outputs": [],
   "source": [
    "X = dataset.drop('DEATH_EVENT', axis=1)\n",
    "y= dataset['DEATH_EVENT']"
   ]
  },
  {
   "cell_type": "code",
   "execution_count": 11,
   "metadata": {
    "id": "n-pHWtqtNP-J"
   },
   "outputs": [],
   "source": [
    "X_train, X_test, y_train, y_test = train_test_split(X, y, test_size =\n",
    "                                                    0.2, stratify=y, random_state=99)\n",
    "\n",
    "scaler = StandardScaler()\n",
    "X_train = scaler.fit_transform(X_train)\n",
    "X_test = scaler.transform(X_test)"
   ]
  },
  {
   "cell_type": "code",
   "execution_count": 12,
   "metadata": {
    "id": "z8b_e5joNShy"
   },
   "outputs": [],
   "source": [
    "import imblearn"
   ]
  },
  {
   "cell_type": "code",
   "execution_count": 13,
   "metadata": {
    "colab": {
     "base_uri": "https://localhost:8080/",
     "height": 298
    },
    "id": "G1-K44CuKkti",
    "outputId": "970d96fb-40b3-44d7-c2ea-b82a5a69034a"
   },
   "outputs": [
    {
     "data": {
      "text/plain": [
       "<AxesSubplot:xlabel='DEATH_EVENT', ylabel='count'>"
      ]
     },
     "execution_count": 13,
     "metadata": {},
     "output_type": "execute_result"
    },
    {
     "data": {
      "image/png": "[encoded data removed]",
      "text/plain": [
       "<Figure size 432x288 with 1 Axes>"
      ]
     },
     "metadata": {
      "needs_background": "light"
     },
     "output_type": "display_data"
    }
   ],
   "source": [
    "from imblearn.over_sampling import RandomOverSampler\n",
    "\n",
    "resampler = RandomOverSampler(random_state=0)\n",
    "\n",
    "X_train_oversampled, y_train_oversampled = resampler.fit_resample(X_train, y_train)\n",
    "\n",
    "sns.countplot(x=y_train_oversampled)"
   ]
  },
  {
   "cell_type": "code",
   "execution_count": 14,
   "metadata": {
    "id": "iTrJiH9_7VYi"
   },
   "outputs": [],
   "source": [
    "model = tf.keras.models.Sequential()\n",
    "model.add(tf.keras.layers.Dense(8,activation='relu',input_shape=(12,)))\n",
    "model.add(tf.keras.layers.Dense(8,activation='relu'))\n",
    "model.add(tf.keras.layers.Dense(1,activation='sigmoid'))"
   ]
  },
  {
   "cell_type": "code",
   "execution_count": 15,
   "metadata": {
    "id": "S4hQbsIJVYoL"
   },
   "outputs": [],
   "source": [
    "model.compile(optimizer='adam',\n",
    "\n",
    " loss='binary_crossentropy',\n",
    "\n",
    " metrics='accuracy')"
   ]
  },
  {
   "cell_type": "code",
   "execution_count": 16,
   "metadata": {
    "colab": {
     "base_uri": "https://localhost:8080/"
    },
    "id": "L5qf6HJaymQO",
    "outputId": "fb6ad07f-3ec0-4791-ca13-5d3ddfd38a3d"
   },
   "outputs": [
    {
     "name": "stdout",
     "output_type": "stream",
     "text": [
      "Model: \"sequential\"\n",
      "_________________________________________________________________\n",
      " Layer (type)                Output Shape              Param #   \n",
      "=================================================================\n",
      " dense (Dense)               (None, 8)                 104       \n",
      "                                                                 \n",
      " dense_1 (Dense)             (None, 8)                 72        \n",
      "                                                                 \n",
      " dense_2 (Dense)             (None, 1)                 9         \n",
      "                                                                 \n",
      "=================================================================\n",
      "Total params: 185\n",
      "Trainable params: 185\n",
      "Non-trainable params: 0\n",
      "_________________________________________________________________\n"
     ]
    }
   ],
   "source": [
    "model.summary()"
   ]
  },
  {
   "cell_type": "code",
   "execution_count": 17,
   "metadata": {
    "colab": {
     "base_uri": "https://localhost:8080/"
    },
    "id": "0RfrIBDAvE1b",
    "outputId": "1268b75d-d4ad-4aab-e601-eb7bb7a525da"
   },
   "outputs": [
    {
     "name": "stdout",
     "output_type": "stream",
     "text": [
      "Epoch 1/50\n",
      "22/22 - 1s - loss: 0.6640 - accuracy: 0.6293 - val_loss: 0.6482 - val_accuracy: 0.6462 - 821ms/epoch - 37ms/step\n",
      "Epoch 2/50\n",
      "22/22 - 0s - loss: 0.6403 - accuracy: 0.6834 - val_loss: 0.6539 - val_accuracy: 0.6615 - 58ms/epoch - 3ms/step\n",
      "Epoch 3/50\n",
      "22/22 - 0s - loss: 0.6193 - accuracy: 0.6873 - val_loss: 0.6412 - val_accuracy: 0.6923 - 63ms/epoch - 3ms/step\n",
      "Epoch 4/50\n",
      "22/22 - 0s - loss: 0.6011 - accuracy: 0.7066 - val_loss: 0.6297 - val_accuracy: 0.7077 - 55ms/epoch - 2ms/step\n",
      "Epoch 5/50\n",
      "22/22 - 0s - loss: 0.5811 - accuracy: 0.7297 - val_loss: 0.6182 - val_accuracy: 0.7231 - 59ms/epoch - 3ms/step\n",
      "Epoch 6/50\n",
      "22/22 - 0s - loss: 0.5624 - accuracy: 0.7490 - val_loss: 0.6171 - val_accuracy: 0.6769 - 59ms/epoch - 3ms/step\n",
      "Epoch 7/50\n",
      "22/22 - 0s - loss: 0.5449 - accuracy: 0.7645 - val_loss: 0.6035 - val_accuracy: 0.7077 - 59ms/epoch - 3ms/step\n",
      "Epoch 8/50\n",
      "22/22 - 0s - loss: 0.5264 - accuracy: 0.7838 - val_loss: 0.5963 - val_accuracy: 0.7077 - 72ms/epoch - 3ms/step\n",
      "Epoch 9/50\n",
      "22/22 - 0s - loss: 0.5095 - accuracy: 0.7799 - val_loss: 0.5745 - val_accuracy: 0.7231 - 72ms/epoch - 3ms/step\n",
      "Epoch 10/50\n",
      "22/22 - 0s - loss: 0.4909 - accuracy: 0.7876 - val_loss: 0.5738 - val_accuracy: 0.7077 - 72ms/epoch - 3ms/step\n",
      "Epoch 11/50\n",
      "22/22 - 0s - loss: 0.4750 - accuracy: 0.7915 - val_loss: 0.5648 - val_accuracy: 0.7385 - 72ms/epoch - 3ms/step\n",
      "Epoch 12/50\n",
      "22/22 - 0s - loss: 0.4586 - accuracy: 0.8031 - val_loss: 0.5439 - val_accuracy: 0.7538 - 71ms/epoch - 3ms/step\n",
      "Epoch 13/50\n",
      "22/22 - 0s - loss: 0.4411 - accuracy: 0.8185 - val_loss: 0.5469 - val_accuracy: 0.7692 - 70ms/epoch - 3ms/step\n",
      "Epoch 14/50\n",
      "22/22 - 0s - loss: 0.4255 - accuracy: 0.8263 - val_loss: 0.5173 - val_accuracy: 0.7538 - 73ms/epoch - 3ms/step\n",
      "Epoch 15/50\n",
      "22/22 - 0s - loss: 0.4059 - accuracy: 0.8301 - val_loss: 0.5065 - val_accuracy: 0.7538 - 69ms/epoch - 3ms/step\n",
      "Epoch 16/50\n",
      "22/22 - 0s - loss: 0.3908 - accuracy: 0.8494 - val_loss: 0.4648 - val_accuracy: 0.7692 - 71ms/epoch - 3ms/step\n",
      "Epoch 17/50\n",
      "22/22 - 0s - loss: 0.3771 - accuracy: 0.8610 - val_loss: 0.4645 - val_accuracy: 0.7846 - 69ms/epoch - 3ms/step\n",
      "Epoch 18/50\n",
      "22/22 - 0s - loss: 0.3658 - accuracy: 0.8610 - val_loss: 0.4393 - val_accuracy: 0.8154 - 59ms/epoch - 3ms/step\n",
      "Epoch 19/50\n",
      "22/22 - 0s - loss: 0.3559 - accuracy: 0.8571 - val_loss: 0.4412 - val_accuracy: 0.8154 - 57ms/epoch - 3ms/step\n",
      "Epoch 20/50\n",
      "22/22 - 0s - loss: 0.3463 - accuracy: 0.8610 - val_loss: 0.4247 - val_accuracy: 0.8308 - 61ms/epoch - 3ms/step\n",
      "Epoch 21/50\n",
      "22/22 - 0s - loss: 0.3396 - accuracy: 0.8687 - val_loss: 0.4117 - val_accuracy: 0.8462 - 59ms/epoch - 3ms/step\n",
      "Epoch 22/50\n",
      "22/22 - 0s - loss: 0.3336 - accuracy: 0.8649 - val_loss: 0.4151 - val_accuracy: 0.8308 - 61ms/epoch - 3ms/step\n",
      "Epoch 23/50\n",
      "22/22 - 0s - loss: 0.3274 - accuracy: 0.8649 - val_loss: 0.4039 - val_accuracy: 0.8462 - 59ms/epoch - 3ms/step\n",
      "Epoch 24/50\n",
      "22/22 - 0s - loss: 0.3234 - accuracy: 0.8726 - val_loss: 0.3818 - val_accuracy: 0.8462 - 61ms/epoch - 3ms/step\n",
      "Epoch 25/50\n",
      "22/22 - 0s - loss: 0.3188 - accuracy: 0.8803 - val_loss: 0.3942 - val_accuracy: 0.8462 - 61ms/epoch - 3ms/step\n",
      "Epoch 26/50\n",
      "22/22 - 0s - loss: 0.3137 - accuracy: 0.8803 - val_loss: 0.3751 - val_accuracy: 0.8462 - 57ms/epoch - 3ms/step\n",
      "Epoch 27/50\n",
      "22/22 - 0s - loss: 0.3090 - accuracy: 0.8842 - val_loss: 0.3764 - val_accuracy: 0.8462 - 60ms/epoch - 3ms/step\n",
      "Epoch 28/50\n",
      "22/22 - 0s - loss: 0.3063 - accuracy: 0.8764 - val_loss: 0.3845 - val_accuracy: 0.8462 - 59ms/epoch - 3ms/step\n",
      "Epoch 29/50\n",
      "22/22 - 0s - loss: 0.3022 - accuracy: 0.8764 - val_loss: 0.3721 - val_accuracy: 0.8462 - 66ms/epoch - 3ms/step\n",
      "Epoch 30/50\n",
      "22/22 - 0s - loss: 0.2991 - accuracy: 0.8764 - val_loss: 0.3650 - val_accuracy: 0.8462 - 58ms/epoch - 3ms/step\n",
      "Epoch 31/50\n",
      "22/22 - 0s - loss: 0.2960 - accuracy: 0.8764 - val_loss: 0.3626 - val_accuracy: 0.8615 - 61ms/epoch - 3ms/step\n",
      "Epoch 32/50\n",
      "22/22 - 0s - loss: 0.2933 - accuracy: 0.8842 - val_loss: 0.3596 - val_accuracy: 0.8615 - 60ms/epoch - 3ms/step\n",
      "Epoch 33/50\n",
      "22/22 - 0s - loss: 0.2905 - accuracy: 0.8764 - val_loss: 0.3606 - val_accuracy: 0.8615 - 60ms/epoch - 3ms/step\n",
      "Epoch 34/50\n",
      "22/22 - 0s - loss: 0.2884 - accuracy: 0.8803 - val_loss: 0.3501 - val_accuracy: 0.8615 - 59ms/epoch - 3ms/step\n",
      "Epoch 35/50\n",
      "22/22 - 0s - loss: 0.2853 - accuracy: 0.8803 - val_loss: 0.3514 - val_accuracy: 0.8615 - 61ms/epoch - 3ms/step\n",
      "Epoch 36/50\n",
      "22/22 - 0s - loss: 0.2833 - accuracy: 0.8764 - val_loss: 0.3550 - val_accuracy: 0.8308 - 60ms/epoch - 3ms/step\n",
      "Epoch 37/50\n",
      "22/22 - 0s - loss: 0.2808 - accuracy: 0.8764 - val_loss: 0.3376 - val_accuracy: 0.8615 - 61ms/epoch - 3ms/step\n",
      "Epoch 38/50\n",
      "22/22 - 0s - loss: 0.2792 - accuracy: 0.8880 - val_loss: 0.3375 - val_accuracy: 0.8615 - 54ms/epoch - 2ms/step\n",
      "Epoch 39/50\n",
      "22/22 - 0s - loss: 0.2762 - accuracy: 0.8764 - val_loss: 0.3353 - val_accuracy: 0.8308 - 54ms/epoch - 2ms/step\n",
      "Epoch 40/50\n",
      "22/22 - 0s - loss: 0.2734 - accuracy: 0.8842 - val_loss: 0.3308 - val_accuracy: 0.8462 - 53ms/epoch - 2ms/step\n",
      "Epoch 41/50\n",
      "22/22 - 0s - loss: 0.2714 - accuracy: 0.8842 - val_loss: 0.3228 - val_accuracy: 0.8769 - 54ms/epoch - 2ms/step\n",
      "Epoch 42/50\n",
      "22/22 - 0s - loss: 0.2695 - accuracy: 0.8880 - val_loss: 0.3286 - val_accuracy: 0.8462 - 54ms/epoch - 2ms/step\n",
      "Epoch 43/50\n",
      "22/22 - 0s - loss: 0.2678 - accuracy: 0.8880 - val_loss: 0.3286 - val_accuracy: 0.8462 - 55ms/epoch - 2ms/step\n",
      "Epoch 44/50\n",
      "22/22 - 0s - loss: 0.2652 - accuracy: 0.8880 - val_loss: 0.3279 - val_accuracy: 0.8462 - 56ms/epoch - 3ms/step\n",
      "Epoch 45/50\n",
      "22/22 - 0s - loss: 0.2636 - accuracy: 0.8880 - val_loss: 0.3155 - val_accuracy: 0.8462 - 53ms/epoch - 2ms/step\n",
      "Epoch 46/50\n",
      "22/22 - 0s - loss: 0.2618 - accuracy: 0.8880 - val_loss: 0.3188 - val_accuracy: 0.8462 - 54ms/epoch - 2ms/step\n",
      "Epoch 47/50\n",
      "22/22 - 0s - loss: 0.2601 - accuracy: 0.8919 - val_loss: 0.3127 - val_accuracy: 0.8923 - 54ms/epoch - 2ms/step\n",
      "Epoch 48/50\n",
      "22/22 - 0s - loss: 0.2581 - accuracy: 0.8880 - val_loss: 0.3228 - val_accuracy: 0.8615 - 55ms/epoch - 2ms/step\n",
      "Epoch 49/50\n",
      "22/22 - 0s - loss: 0.2560 - accuracy: 0.8958 - val_loss: 0.3203 - val_accuracy: 0.8615 - 58ms/epoch - 3ms/step\n",
      "Epoch 50/50\n",
      "22/22 - 0s - loss: 0.2547 - accuracy: 0.8958 - val_loss: 0.3143 - val_accuracy: 0.8615 - 54ms/epoch - 2ms/step\n"
     ]
    }
   ],
   "source": [
    "history = model.fit(X_train_oversampled, y_train_oversampled,\n",
    "                    batch_size = 12, epochs=50, \\\n",
    "                    verbose=2, \\\n",
    "                    validation_split=0.2)"
   ]
  },
  {
   "cell_type": "code",
   "execution_count": 18,
   "metadata": {
    "colab": {
     "base_uri": "https://localhost:8080/",
     "height": 299
    },
    "id": "1K8blmClxtEu",
    "outputId": "cc0811a7-6749-4f2a-9439-51d86973b3b0"
   },
   "outputs": [
    {
     "data": {
      "text/plain": [
       "<matplotlib.legend.Legend at 0x14e56bf9f70>"
      ]
     },
     "execution_count": 18,
     "metadata": {},
     "output_type": "execute_result"
    },
    {
     "data": {
      "image/png": "[encoded data removed]",
      "text/plain": [
       "<Figure size 432x288 with 1 Axes>"
      ]
     },
     "metadata": {
      "needs_background": "light"
     },
     "output_type": "display_data"
    }
   ],
   "source": [
    "accuracy = history.history['accuracy']\n",
    "validation_accuracy = history.history['val_accuracy']\n",
    "\n",
    "plt.plot(accuracy, label='Training Set Accuracy')\n",
    "plt.plot(validation_accuracy, label='Validation Set Accuracy')\n",
    "plt.ylabel('Accuracy')\n",
    "plt.ylim([min(plt.ylim()),1])\n",
    "plt.title('Training and Validation Accuracy Across Epochs')\n",
    "plt.legend()"
   ]
  },
  {
   "cell_type": "code",
   "execution_count": 19,
   "metadata": {
    "colab": {
     "base_uri": "https://localhost:8080/",
     "height": 299
    },
    "id": "uxtLxvG73qiA",
    "outputId": "8bb093bc-5ebb-4c3b-e660-06839ef5e98b"
   },
   "outputs": [
    {
     "data": {
      "text/plain": [
       "<matplotlib.legend.Legend at 0x14e591fbe20>"
      ]
     },
     "execution_count": 19,
     "metadata": {},
     "output_type": "execute_result"
    },
    {
     "data": {
      "image/png": "[encoded data removed]",
      "text/plain": [
       "<Figure size 432x288 with 1 Axes>"
      ]
     },
     "metadata": {
      "needs_background": "light"
     },
     "output_type": "display_data"
    }
   ],
   "source": [
    "loss = history.history['loss']\n",
    "validation_loss = history.history['val_loss']\n",
    "\n",
    "plt.plot(loss, label='Training Set Loss')\n",
    "plt.plot(validation_loss, label='Validation Set Loss')\n",
    "plt.ylabel('Loss')\n",
    "plt.title('Training and Validation Loss Across Epochs')\n",
    "plt.legend()"
   ]
  },
  {
   "cell_type": "code",
   "execution_count": 20,
   "metadata": {
    "id": "w0trO7KZ4SxM"
   },
   "outputs": [],
   "source": [
    "from sklearn.metrics import confusion_matrix, classification_report"
   ]
  },
  {
   "cell_type": "code",
   "execution_count": 21,
   "metadata": {
    "colab": {
     "base_uri": "https://localhost:8080/"
    },
    "id": "8pibjC0B4VMW",
    "outputId": "dfb37bf7-c664-4d2d-bbb0-0d4f25769e28"
   },
   "outputs": [
    {
     "name": "stdout",
     "output_type": "stream",
     "text": [
      "2/2 [==============================] - 0s 2ms/step\n"
     ]
    }
   ],
   "source": [
    "y_pred = model.predict(X_test)>0.4"
   ]
  },
  {
   "cell_type": "code",
   "execution_count": 22,
   "metadata": {
    "colab": {
     "base_uri": "https://localhost:8080/",
     "height": 298
    },
    "id": "Lx3eqmlW4cL9",
    "outputId": "b82b35b3-8c80-43e3-e0d2-e976545ee775"
   },
   "outputs": [
    {
     "data": {
      "image/png": "[encoded data removed]",
      "text/plain": [
       "<Figure size 432x288 with 2 Axes>"
      ]
     },
     "metadata": {
      "needs_background": "light"
     },
     "output_type": "display_data"
    }
   ],
   "source": [
    "confusion_matrix = confusion_matrix(y_test,y_pred)\n",
    "ax = sns.heatmap(confusion_matrix, cmap='flare',annot=True, fmt='d')\n",
    "\n",
    "plt.xlabel(\"Predicted Class\",fontsize=12)\n",
    "plt.ylabel(\"True Class\",fontsize=12)\n",
    "plt.title(\"Confusion Matrix\",fontsize=12)\n",
    "plt.show()"
   ]
  },
  {
   "cell_type": "code",
   "execution_count": 23,
   "metadata": {
    "colab": {
     "base_uri": "https://localhost:8080/"
    },
    "id": "vs5I6Lrg44mi",
    "outputId": "72bd833e-372b-42a7-9fc8-bdfa306992b3"
   },
   "outputs": [
    {
     "name": "stdout",
     "output_type": "stream",
     "text": [
      "              precision    recall  f1-score   support\n",
      "\n",
      "           0       0.87      0.83      0.85        41\n",
      "           1       0.67      0.74      0.70        19\n",
      "\n",
      "    accuracy                           0.80        60\n",
      "   macro avg       0.77      0.78      0.78        60\n",
      "weighted avg       0.81      0.80      0.80        60\n",
      "\n"
     ]
    }
   ],
   "source": [
    "print(classification_report(y_test,y_pred))"
   ]
  }
 ],
 "metadata": {
  "accelerator": "GPU",
  "colab": {
   "provenance": []
  },
  "gpuClass": "standard",
  "kernelspec": {
   "display_name": "Python 3 (ipykernel)",
   "language": "python",
   "name": "python3"
  },
  "language_info": {
   "codemirror_mode": {
    "name": "ipython",
    "version": 3
   },
   "file_extension": ".py",
   "mimetype": "text/x-python",
   "name": "python",
   "nbconvert_exporter": "python",
   "pygments_lexer": "ipython3",
   "version": "3.9.12"
  }
 },
 "nbformat": 4,
 "nbformat_minor": 1
}
